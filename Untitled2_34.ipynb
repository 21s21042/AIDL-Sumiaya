{
  "nbformat": 4,
  "nbformat_minor": 0,
  "metadata": {
    "colab": {
      "provenance": []
    },
    "kernelspec": {
      "name": "python3",
      "display_name": "Python 3"
    },
    "language_info": {
      "name": "python"
    }
  },
  "cells": [
    {
      "cell_type": "code",
      "execution_count": 1,
      "metadata": {
        "id": "ZIzIECrj54wX",
        "colab": {
          "base_uri": "https://localhost:8080/"
        },
        "outputId": "18b1403f-5fe1-43c4-9584-fe6da770c379"
      },
      "outputs": [
        {
          "output_type": "stream",
          "name": "stdout",
          "text": [
            "Mounted at /content/drive/\n"
          ]
        }
      ],
      "source": [
        "#My dataset is available in googledrive; so I am accessing my drive from colab\n",
        "from google.colab import drive\n",
        "drive.mount('/content/drive/', force_remount=True)\n",
        "#Once this is executed, you will see your drive appearing on the left hand side"
      ]
    },
    {
      "cell_type": "code",
      "source": [
        "# Define paths to the dataset\n",
        "train_dir = '/content/drive/MyDrive/train'  # Update with your actual path\n",
        "test_dir = '/content/drive/MyDrive/test'    # Update with your actual path"
      ],
      "metadata": {
        "id": "ZliyWwQp5-B7"
      },
      "execution_count": 2,
      "outputs": []
    },
    {
      "cell_type": "code",
      "source": [
        "import os\n",
        "print(len(os.listdir('/content/drive/MyDrive/train/Car')))\n",
        "print(len(os.listdir('/content/drive/MyDrive/train/Bike')))\n",
        "print(len(os.listdir('/content/drive/MyDrive/test/Car')))\n",
        "print(len(os.listdir('/content/drive/MyDrive/test/Bike')))"
      ],
      "metadata": {
        "id": "dduRvGyG5-Ee",
        "colab": {
          "base_uri": "https://localhost:8080/"
        },
        "outputId": "c024a6bc-beab-4124-fcfa-4dca1f6e129d"
      },
      "execution_count": 3,
      "outputs": [
        {
          "output_type": "stream",
          "name": "stdout",
          "text": [
            "2000\n",
            "656\n",
            "2000\n",
            "656\n"
          ]
        }
      ]
    },
    {
      "cell_type": "code",
      "source": [
        "import tensorflow as tf\n",
        "from tensorflow.keras.preprocessing.image import ImageDataGenerator\n",
        "\n",
        "# Create ImageDataGenerator for training set\n",
        "train_datagen = ImageDataGenerator(\n",
        "    rescale=1./255,\n",
        "    validation_split=0.2  # Split 20% of the images for validation\n",
        ")\n",
        "\n",
        "# Load and prepare training data\n",
        "train_data = train_datagen.flow_from_directory(\n",
        "    train_dir,\n",
        "    target_size=(256,256),\n",
        "    batch_size=32,\n",
        "    class_mode='binary',  # 'binary' for binary classification (cars vs. bikes)\n",
        "    subset='training'  # Specify 'training' for the training set\n",
        ")\n",
        "\n",
        "# Create ImageDataGenerator for validation set\n",
        "validation_datagen = ImageDataGenerator(\n",
        "    rescale=1./255,\n",
        "    validation_split=0.2  # Note: Using the same validation split as in the training set\n",
        ")\n",
        "\n",
        "# Load and prepare validation data\n",
        "validation_data = validation_datagen.flow_from_directory(\n",
        "    train_dir,\n",
        "    target_size=(256,256),\n",
        "    batch_size=32,\n",
        "    class_mode='binary',\n",
        "    subset='validation'  # Specify 'validation' for the validation set\n",
        ")"
      ],
      "metadata": {
        "id": "TPyrEG8A5-G1",
        "colab": {
          "base_uri": "https://localhost:8080/"
        },
        "outputId": "79ec0bc5-508a-4a48-e9bb-ef154ae62f03"
      },
      "execution_count": 4,
      "outputs": [
        {
          "output_type": "stream",
          "name": "stdout",
          "text": [
            "Found 2125 images belonging to 2 classes.\n",
            "Found 531 images belonging to 2 classes.\n"
          ]
        }
      ]
    },
    {
      "cell_type": "code",
      "source": [
        "from tensorflow import keras\n",
        "from keras import Sequential\n",
        "from keras.layers import Dense,Conv2D,MaxPooling2D,Flatten,BatchNormalization,UpSampling2D, Dropout"
      ],
      "metadata": {
        "id": "CI8CHCel5-Jb"
      },
      "execution_count": 5,
      "outputs": []
    },
    {
      "cell_type": "code",
      "source": [
        "# create CNN model\n",
        "\n",
        "model = Sequential()\n",
        "\n",
        "model.add(Conv2D(32,kernel_size=(3,3),padding='valid',activation='relu',input_shape=(256,256,3)))  # 32 filters\n",
        "#model.add(BatchNormalization())  # added to reduce overfitting\n",
        "model.add(MaxPooling2D(pool_size=(2,2),strides=2,padding='valid'))\n",
        "\n",
        "model.add(Conv2D(64,kernel_size=(3,3),padding='valid',activation='relu'))\n",
        "#model.add(BatchNormalization())  # added to reduce overfitting\n",
        "model.add(MaxPooling2D(pool_size=(2,2),strides=2,padding='valid'))\n",
        "\n",
        "model.add(Conv2D(128,kernel_size=(3,3),padding='valid',activation='relu'))\n",
        "#model.add(BatchNormalization())  # added to reduce overfitting\n",
        "model.add(MaxPooling2D(pool_size=(2,2),strides=2,padding='valid'))\n",
        "\n",
        "model.add(Flatten())\n",
        "\n",
        "model.add(Dense(128,activation='relu')) #feature reduction\n",
        "#model.add(Dropout(0.1))  # added to reduce overfitting\n",
        "model.add(Dense(64,activation='relu'))\n",
        "#model.add(Dropout(0.1))  # added to reduce overfitting\n",
        "model.add(Dense(1,activation='sigmoid'))  #output layer"
      ],
      "metadata": {
        "id": "C-39SNJK5-MC"
      },
      "execution_count": 6,
      "outputs": []
    },
    {
      "cell_type": "code",
      "source": [
        "from keras.optimizers import Adam\n",
        "model.compile(optimizer=Adam(learning_rate=0.001),loss='binary_crossentropy',metrics=['accuracy'])\n",
        "#binary_crossentropy - binary classification"
      ],
      "metadata": {
        "id": "9if-2w086SyQ"
      },
      "execution_count": 7,
      "outputs": []
    },
    {
      "cell_type": "code",
      "source": [
        "history = model.fit(train_data, epochs=30, validation_data=validation_data)"
      ],
      "metadata": {
        "id": "sCKQZYnN6S0l",
        "colab": {
          "base_uri": "https://localhost:8080/"
        },
        "outputId": "299bc88f-8715-44c6-bd63-ebf62bf713d9"
      },
      "execution_count": 8,
      "outputs": [
        {
          "output_type": "stream",
          "name": "stdout",
          "text": [
            "Epoch 1/30\n",
            "28/67 [===========>..................] - ETA: 5:48 - loss: 0.7063 - accuracy: 0.7742"
          ]
        },
        {
          "output_type": "stream",
          "name": "stderr",
          "text": [
            "/usr/local/lib/python3.10/dist-packages/PIL/Image.py:996: UserWarning: Palette images with Transparency expressed in bytes should be converted to RGBA images\n",
            "  warnings.warn(\n"
          ]
        },
        {
          "output_type": "stream",
          "name": "stdout",
          "text": [
            "67/67 [==============================] - 747s 11s/step - loss: 0.5469 - accuracy: 0.7784 - val_loss: 0.3635 - val_accuracy: 0.8493\n",
            "Epoch 2/30\n",
            "67/67 [==============================] - 367s 5s/step - loss: 0.2511 - accuracy: 0.9007 - val_loss: 0.2061 - val_accuracy: 0.9171\n",
            "Epoch 3/30\n",
            "67/67 [==============================] - 359s 5s/step - loss: 0.1256 - accuracy: 0.9544 - val_loss: 0.2358 - val_accuracy: 0.9040\n",
            "Epoch 4/30\n",
            "67/67 [==============================] - 378s 6s/step - loss: 0.0598 - accuracy: 0.9784 - val_loss: 0.2326 - val_accuracy: 0.9416\n",
            "Epoch 5/30\n",
            "67/67 [==============================] - 376s 6s/step - loss: 0.0414 - accuracy: 0.9845 - val_loss: 0.1973 - val_accuracy: 0.9435\n",
            "Epoch 6/30\n",
            "67/67 [==============================] - 361s 5s/step - loss: 0.0278 - accuracy: 0.9920 - val_loss: 0.3204 - val_accuracy: 0.9209\n",
            "Epoch 7/30\n",
            "67/67 [==============================] - 365s 5s/step - loss: 0.0024 - accuracy: 1.0000 - val_loss: 0.3653 - val_accuracy: 0.9115\n",
            "Epoch 8/30\n",
            "67/67 [==============================] - 350s 5s/step - loss: 0.0016 - accuracy: 1.0000 - val_loss: 0.3825 - val_accuracy: 0.9209\n",
            "Epoch 9/30\n",
            "67/67 [==============================] - 356s 5s/step - loss: 2.6803e-04 - accuracy: 1.0000 - val_loss: 0.4023 - val_accuracy: 0.9096\n",
            "Epoch 10/30\n",
            "67/67 [==============================] - 353s 5s/step - loss: 1.5307e-04 - accuracy: 1.0000 - val_loss: 0.4100 - val_accuracy: 0.9134\n",
            "Epoch 11/30\n",
            "67/67 [==============================] - 352s 5s/step - loss: 1.0181e-04 - accuracy: 1.0000 - val_loss: 0.4159 - val_accuracy: 0.9115\n",
            "Epoch 12/30\n",
            "67/67 [==============================] - 354s 5s/step - loss: 7.3279e-05 - accuracy: 1.0000 - val_loss: 0.4250 - val_accuracy: 0.9115\n",
            "Epoch 13/30\n",
            "67/67 [==============================] - 360s 5s/step - loss: 5.9033e-05 - accuracy: 1.0000 - val_loss: 0.4299 - val_accuracy: 0.9134\n",
            "Epoch 14/30\n",
            "67/67 [==============================] - 371s 6s/step - loss: 4.6613e-05 - accuracy: 1.0000 - val_loss: 0.4356 - val_accuracy: 0.9153\n",
            "Epoch 15/30\n",
            "67/67 [==============================] - 354s 5s/step - loss: 3.5791e-05 - accuracy: 1.0000 - val_loss: 0.4410 - val_accuracy: 0.9171\n",
            "Epoch 16/30\n",
            "67/67 [==============================] - 366s 5s/step - loss: 2.9165e-05 - accuracy: 1.0000 - val_loss: 0.4469 - val_accuracy: 0.9171\n",
            "Epoch 17/30\n",
            "67/67 [==============================] - 373s 6s/step - loss: 2.4099e-05 - accuracy: 1.0000 - val_loss: 0.4490 - val_accuracy: 0.9190\n",
            "Epoch 18/30\n",
            "67/67 [==============================] - 371s 6s/step - loss: 2.0495e-05 - accuracy: 1.0000 - val_loss: 0.4566 - val_accuracy: 0.9171\n",
            "Epoch 19/30\n",
            "67/67 [==============================] - 375s 6s/step - loss: 1.7437e-05 - accuracy: 1.0000 - val_loss: 0.4573 - val_accuracy: 0.9171\n",
            "Epoch 20/30\n",
            "67/67 [==============================] - 368s 6s/step - loss: 1.5153e-05 - accuracy: 1.0000 - val_loss: 0.4624 - val_accuracy: 0.9209\n",
            "Epoch 21/30\n",
            "67/67 [==============================] - 359s 5s/step - loss: 1.3210e-05 - accuracy: 1.0000 - val_loss: 0.4648 - val_accuracy: 0.9209\n",
            "Epoch 22/30\n",
            "67/67 [==============================] - 357s 5s/step - loss: 1.1538e-05 - accuracy: 1.0000 - val_loss: 0.4703 - val_accuracy: 0.9209\n",
            "Epoch 23/30\n",
            "67/67 [==============================] - 356s 5s/step - loss: 1.0280e-05 - accuracy: 1.0000 - val_loss: 0.4735 - val_accuracy: 0.9247\n",
            "Epoch 24/30\n",
            "67/67 [==============================] - 372s 6s/step - loss: 9.0064e-06 - accuracy: 1.0000 - val_loss: 0.4764 - val_accuracy: 0.9228\n",
            "Epoch 25/30\n",
            "67/67 [==============================] - 361s 5s/step - loss: 7.9626e-06 - accuracy: 1.0000 - val_loss: 0.4835 - val_accuracy: 0.9228\n",
            "Epoch 26/30\n",
            "67/67 [==============================] - 356s 5s/step - loss: 7.1403e-06 - accuracy: 1.0000 - val_loss: 0.4845 - val_accuracy: 0.9247\n",
            "Epoch 27/30\n",
            "67/67 [==============================] - 355s 5s/step - loss: 6.4277e-06 - accuracy: 1.0000 - val_loss: 0.4894 - val_accuracy: 0.9266\n",
            "Epoch 28/30\n",
            "67/67 [==============================] - 355s 5s/step - loss: 5.8511e-06 - accuracy: 1.0000 - val_loss: 0.4920 - val_accuracy: 0.9266\n",
            "Epoch 29/30\n",
            "67/67 [==============================] - 357s 5s/step - loss: 5.3155e-06 - accuracy: 1.0000 - val_loss: 0.4937 - val_accuracy: 0.9266\n",
            "Epoch 30/30\n",
            "67/67 [==============================] - 372s 6s/step - loss: 4.8804e-06 - accuracy: 1.0000 - val_loss: 0.4992 - val_accuracy: 0.9247\n"
          ]
        }
      ]
    },
    {
      "cell_type": "code",
      "source": [
        "import matplotlib.pyplot as plt\n",
        "\n",
        "plt.plot(history.history['accuracy'],color='red',label='train')\n",
        "plt.plot(history.history['val_accuracy'],color='blue',label='validation')\n",
        "plt.legend()\n",
        "plt.show()"
      ],
      "metadata": {
        "id": "FWEhD1Rq5-OY",
        "colab": {
          "base_uri": "https://localhost:8080/",
          "height": 430
        },
        "outputId": "2dcb684f-8845-48c3-c0bf-b27d4bcdebef"
      },
      "execution_count": 9,
      "outputs": [
        {
          "output_type": "display_data",
          "data": {
            "text/plain": [
              "<Figure size 640x480 with 1 Axes>"
            ],
            "image/png": "[encoded data removed]"
          },
          "metadata": {}
        }
      ]
    },
    {
      "cell_type": "code",
      "source": [
        "plt.plot(history.history['loss'],color='red',label='train')\n",
        "plt.plot(history.history['val_loss'],color='blue',label='validation')\n",
        "plt.legend()\n",
        "plt.show()"
      ],
      "metadata": {
        "id": "dvvjlQtB6agS",
        "colab": {
          "base_uri": "https://localhost:8080/",
          "height": 430
        },
        "outputId": "70e21814-abb2-4ddb-d26f-72b48c8679d9"
      },
      "execution_count": 10,
      "outputs": [
        {
          "output_type": "display_data",
          "data": {
            "text/plain": [
              "<Figure size 640x480 with 1 Axes>"
            ],
            "image/png": "[encoded data removed]"
          },
          "metadata": {}
        }
      ]
    },
    {
      "cell_type": "code",
      "source": [
        "test_datagen = ImageDataGenerator(rescale=1./255)\n",
        "test_data = test_datagen.flow_from_directory(\n",
        "    test_dir,\n",
        "    target_size=(256,256),\n",
        "    batch_size=32,\n",
        "    class_mode='binary'\n",
        ")"
      ],
      "metadata": {
        "id": "qe_Jfjr56akd",
        "colab": {
          "base_uri": "https://localhost:8080/"
        },
        "outputId": "5bbb0a0f-ff92-4e64-de66-8f0b80f3c70a"
      },
      "execution_count": 11,
      "outputs": [
        {
          "output_type": "stream",
          "name": "stdout",
          "text": [
            "Found 2656 images belonging to 2 classes.\n"
          ]
        }
      ]
    },
    {
      "cell_type": "code",
      "source": [
        "#predict the test data\n",
        "predictions = model.predict(test_data)\n",
        "print(predictions)"
      ],
      "metadata": {
        "id": "X-kdQA8O5-R0",
        "colab": {
          "base_uri": "https://localhost:8080/"
        },
        "outputId": "82eca07e-1b13-45de-b0ef-ff2a1d31b4e8"
      },
      "execution_count": 13,
      "outputs": [
        {
          "output_type": "stream",
          "name": "stdout",
          "text": [
            "83/83 [==============================] - 219s 3s/step\n",
            "[[6.0145460e-13]\n",
            " [9.9997216e-01]\n",
            " [4.7287037e-09]\n",
            " ...\n",
            " [2.8280708e-11]\n",
            " [1.0000000e+00]\n",
            " [1.0000000e+00]]\n"
          ]
        }
      ]
    },
    {
      "cell_type": "code",
      "source": [
        "len(predictions)"
      ],
      "metadata": {
        "id": "UJ8Situx6f2_",
        "colab": {
          "base_uri": "https://localhost:8080/"
        },
        "outputId": "a78bf308-d69e-4984-cafa-8caba12461b6"
      },
      "execution_count": 16,
      "outputs": [
        {
          "output_type": "execute_result",
          "data": {
            "text/plain": [
              "2656"
            ]
          },
          "metadata": {},
          "execution_count": 16
        }
      ]
    },
    {
      "cell_type": "code",
      "source": [
        "from sklearn.metrics import confusion_matrix, classification_report\n",
        "\n",
        "# Assuming you have ground truth labels (true_labels) and predicted labels (predictions)\n",
        "true_labels = test_data.classes\n",
        "predicted_labels = (predictions > 0.5).astype(int)  # Adjust the threshold as needed\n",
        "\n",
        "# Calculate confusion matrix\n",
        "cm = confusion_matrix(true_labels, predicted_labels)\n",
        "\n",
        "# Print confusion matrix\n",
        "print(\"Confusion Matrix:\")\n",
        "print(cm)\n",
        "\n",
        "# Print classification report\n",
        "print(\"Classification Report:\")\n",
        "print(classification_report(true_labels, predicted_labels))"
      ],
      "metadata": {
        "id": "YNFTK-At6h7T",
        "colab": {
          "base_uri": "https://localhost:8080/"
        },
        "outputId": "ffc6b798-a36f-4bb5-aa5a-174017d46ef9"
      },
      "execution_count": 15,
      "outputs": [
        {
          "output_type": "stream",
          "name": "stdout",
          "text": [
            "Confusion Matrix:\n",
            "[[ 153  503]\n",
            " [ 515 1485]]\n",
            "Classification Report:\n",
            "              precision    recall  f1-score   support\n",
            "\n",
            "           0       0.23      0.23      0.23       656\n",
            "           1       0.75      0.74      0.74      2000\n",
            "\n",
            "    accuracy                           0.62      2656\n",
            "   macro avg       0.49      0.49      0.49      2656\n",
            "weighted avg       0.62      0.62      0.62      2656\n",
            "\n"
          ]
        }
      ]
    }
  ]
}